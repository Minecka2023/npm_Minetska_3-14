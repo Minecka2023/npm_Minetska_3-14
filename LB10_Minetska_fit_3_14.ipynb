{
  "nbformat": 4,
  "nbformat_minor": 0,
  "metadata": {
    "colab": {
      "provenance": [],
      "authorship_tag": "ABX9TyMULAEDCfoCSGCx8R4Qea9n",
      "include_colab_link": true
    },
    "kernelspec": {
      "name": "python3",
      "display_name": "Python 3"
    },
    "language_info": {
      "name": "python"
    }
  },
  "cells": [
    {
      "cell_type": "markdown",
      "metadata": {
        "id": "view-in-github",
        "colab_type": "text"
      },
      "source": [
        "<a href=\"https://colab.research.google.com/github/Minecka2023/npm_Minetska_3-14/blob/main/LB10_Minetska_fit_3_14.ipynb\" target=\"_parent\"><img src=\"https://colab.research.google.com/assets/colab-badge.svg\" alt=\"Open In Colab\"/></a>"
      ]
    },
    {
      "cell_type": "code",
      "execution_count": 5,
      "metadata": {
        "colab": {
          "base_uri": "https://localhost:8080/"
        },
        "id": "OMMwRaYHNkri",
        "outputId": "51dfdb22-1cca-4709-f7e3-85f4ecfdba3f"
      },
      "outputs": [
        {
          "output_type": "stream",
          "name": "stdout",
          "text": [
            "праві прямокутники: 0.22938\n",
            "ліві прямокутники: 0.21975\n",
            "середні прямокутники: 0.21975\n",
            "перевірка=  0.2246\n"
          ]
        }
      ],
      "source": [
        "#Метод прямокутників\n",
        "from scipy import integrate\n",
        "import numpy as np\n",
        "\n",
        "eps = 0.0001\n",
        "a = 0.6\n",
        "b = 1.4\n",
        "\n",
        "def f1(x):\n",
        "    return x / np.sqrt(12*x + 0.5)\n",
        "\n",
        "def left_rec(f1, a, b, n):\n",
        "    h = (b - a) / n\n",
        "    sum = 0\n",
        "    for i in range(0, n):\n",
        "        sum += f1(a + i * h)\n",
        "    return sum * h\n",
        "\n",
        "v, err = integrate.quad(f1, a, b)  # Перевірка\n",
        "\n",
        "# Перевірка точності за правилом Рунге:\n",
        "if abs(left_rec(f1, a, b, 2 * 10) - left_rec(f1, a, b, 10)) / 3. <= eps:\n",
        "  print(\"ліві прямокутники:\", round(left_rec(f1, a, b, 10), 5))\n",
        "\n",
        "\n",
        "def right_rec(f1, a, b, n):\n",
        "    h = (b - a) / n\n",
        "    sum = 0\n",
        "    for i in range(1, n + 1):\n",
        "        sum += f1(a + i * h)\n",
        "    return sum * h\n",
        "\n",
        "print(\"праві прямокутники:\", round(right_rec(f1, a, b, 10), 5))\n",
        "\n",
        "def aver_rec(f1, a, b, n):\n",
        "    h = 0.08\n",
        "    sum = 0\n",
        "    for i in range(0, n):\n",
        "        sum += f1(a + i * h)\n",
        "    return sum * h\n",
        "\n",
        "print(\"ліві прямокутники:\", round(left_rec(f1, a, b, 10), 5))\n",
        "print(\"середні прямокутники:\", round(aver_rec(f1, a, b, 10), 5))\n",
        "print(\"перевірка= \", round(v, 5))"
      ]
    },
    {
      "cell_type": "code",
      "source": [
        "#Метод Сімпсона\n",
        "from scipy import integrate\n",
        "import numpy as np\n",
        "\n",
        "# Задаємо функцію, яку необхідно інтегрувати\n",
        "def f(x):\n",
        "    return np.sin((x**2)-1) / 2*np.sqrt(x)\n",
        "\n",
        "# Задаємо межі інтегрування та початкову кількість розбиттів\n",
        "a = 1.3\n",
        "b = 2.1\n",
        "n = 8\n",
        "\n",
        "# Обчислюємо значення інтегралу методом Симпсона\n",
        "def simpson_rule(f, a, b, n):\n",
        "    h = (b - a) / n\n",
        "    integr = f(a) + f(b)\n",
        "    for i in range(1, n):\n",
        "        k = a + i * h\n",
        "        if i % 2 == 0:\n",
        "            integr += 2 * f(k)\n",
        "        else:\n",
        "            integr += 4 * f(k)\n",
        "    integr *= h / 3\n",
        "    return integr\n",
        "\n",
        "# Обчислюємо значення інтегралу методом Сімпсона з точністю 0.001\n",
        "integral1 = simpson_rule(f, a, b, n)\n",
        "n *= 2\n",
        "integral2 = simpson_rule(f, a, b, n)\n",
        "while abs(integral2 - integral1) / 15 > 0.001:\n",
        "    integral1 = integral2\n",
        "    n *= 2\n",
        "    integral2 = simpson_rule(f, a, b, n)\n",
        "\n",
        "# Виводимо результат\n",
        "print(\"Метод Сімпсона:\", round(integral2, 3))\n",
        "v, err = integrate.quad(f, a, b)\n",
        "# Перевірка\n",
        "print(\"перевірка= \", round(v, 3))"
      ],
      "metadata": {
        "colab": {
          "base_uri": "https://localhost:8080/"
        },
        "id": "tWClnFxDPC6f",
        "outputId": "03646994-363f-4c8e-dae0-311e1d09a6c4"
      },
      "execution_count": 7,
      "outputs": [
        {
          "output_type": "stream",
          "name": "stdout",
          "text": [
            "Метод Сімпсона: 0.341\n",
            "перевірка=  0.341\n"
          ]
        }
      ]
    },
    {
      "cell_type": "code",
      "source": [
        "#Метод трапецій\n",
        "from scipy import integrate\n",
        "import numpy as np\n",
        "\n",
        "# Задаємо функцію, яку необхідно інтегрувати\n",
        "def f(x):\n",
        "    return  x / np.sqrt(1+2*x**2)\n",
        "\n",
        "# Задаємо межі інтегрування та початкову кількість розбиттів\n",
        "a = 0.6\n",
        "b = 1.5\n",
        "n = 20\n",
        "\n",
        "# Обчислюємо значення інтегралу методом трапецій\n",
        "def trapezoidal_rule(f, a, b, n):\n",
        "    h = (b - a) / n\n",
        "    x = a\n",
        "    sum = 0\n",
        "    for i in range(1, n):\n",
        "        x += h\n",
        "        sum += 2 * f(x)\n",
        "    sum += f(b)\n",
        "    integral = h / 2 * sum\n",
        "    return integral\n",
        "\n",
        "# Обчислюємо значення інтегралу методом трапецій з точністю 0.001\n",
        "# Перевірка точності за правилом Рунге\n",
        "integral1 = trapezoidal_rule(f, a, b, n)\n",
        "n *= 2\n",
        "integral2 = trapezoidal_rule(f, a, b, n)\n",
        "while abs(integral2 - integral1) / 3 > 0.001:\n",
        "    integral1 = integral2\n",
        "    n *= 2\n",
        "    integral2 = trapezoidal_rule(f, a, b, n)\n",
        "\n",
        "# Виводимо результат\n",
        "print(\"Метод трапецій:\", round(integral2, 3))\n",
        "# Перевірка\n",
        "v, err = integrate.quad(f, a, b)\n",
        "print(\"перевірка =\", round(v, 5))"
      ],
      "metadata": {
        "colab": {
          "base_uri": "https://localhost:8080/"
        },
        "id": "8yKsaw2VQqC5",
        "outputId": "73dd5000-80e5-4878-c56d-0dbb5e43bfdf"
      },
      "execution_count": 6,
      "outputs": [
        {
          "output_type": "stream",
          "name": "stdout",
          "text": [
            "Метод трапецій: 0.514\n",
            "перевірка = 0.51686\n"
          ]
        }
      ]
    }
  ]
}