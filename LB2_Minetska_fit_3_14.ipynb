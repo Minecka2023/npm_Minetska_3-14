{
  "nbformat": 4,
  "nbformat_minor": 0,
  "metadata": {
    "colab": {
      "provenance": [],
      "authorship_tag": "ABX9TyOvWle/QGX8VS4KPbzUUPsH",
      "include_colab_link": true
    },
    "kernelspec": {
      "name": "python3",
      "display_name": "Python 3"
    },
    "language_info": {
      "name": "python"
    }
  },
  "cells": [
    {
      "cell_type": "markdown",
      "metadata": {
        "id": "view-in-github",
        "colab_type": "text"
      },
      "source": [
        "<a href=\"https://colab.research.google.com/github/Minecka2023/npm_Minetska_3-14/blob/main/LB2_Minetska_fit_3_14.ipynb\" target=\"_parent\"><img src=\"https://colab.research.google.com/assets/colab-badge.svg\" alt=\"Open In Colab\"/></a>"
      ]
    },
    {
      "cell_type": "code",
      "execution_count": 9,
      "metadata": {
        "colab": {
          "base_uri": "https://localhost:8080/"
        },
        "id": "HNDs5ydIsQRb",
        "outputId": "f015c735-2437-44f2-c38c-aa137ad443df"
      },
      "outputs": [
        {
          "output_type": "stream",
          "name": "stdout",
          "text": [
            "Відрізок:  [-1, 0]\n",
            "Відрізок:  [1, 2]\n"
          ]
        }
      ],
      "source": [
        "import math\n",
        "import numpy as np\n",
        "from scipy.misc import derivative\n",
        "def f(x):\n",
        "   return 3*x**4 - 4*x**3 + x**2 - 2*x - 3\n",
        "eps=0.0001\n",
        "\n",
        "def find_segments(): #відокремлюємо корені\n",
        "    search_range = np.arange(-10, 10, 1)\n",
        "\n",
        "    a = None\n",
        "    previous_x = None\n",
        "    current_x  = None\n",
        "    segments = []\n",
        "\n",
        "    for x in search_range:\n",
        "        x = round(x, 4)\n",
        "        current_x = f(x)\n",
        "        if previous_x != None and previous_x * current_x < 0:\n",
        "            segments.append((a, x))\n",
        "        a = x\n",
        "        previous_x = current_x\n",
        "    return segments\n",
        "\n",
        "segments = find_segments()\n",
        "for a, b in segments:\n",
        "    print(f'Відрізок:  [{a}, {b}]')\n"
      ]
    },
    {
      "cell_type": "code",
      "source": [
        "#МЕТОД ПОЛОВИННОГО ДІЛЕННЯ\n",
        "def func(x):\n",
        "    return 3*x**4 - 4*x**3 + x**2 - 2*x - 3\n",
        "\n",
        "def half_interval_method(a, b, tolerance):\n",
        "    if func(a) * func(b) >= 0:\n",
        "        print(\"Не можна гарантувати збіжність методу\")\n",
        "        return None\n",
        "\n",
        "    while abs(b - a) > tolerance:\n",
        "        midpoint = (a + b) / 2\n",
        "        if func(midpoint) == 0:\n",
        "            return midpoint\n",
        "        elif func(a) * func(midpoint) < 0:\n",
        "            b = midpoint\n",
        "        else:\n",
        "            a = midpoint\n",
        "\n",
        "    return (a + b) / 2\n",
        "\n",
        "\n",
        "a = -1\n",
        "b = 0\n",
        "tolerance = 0.0001\n",
        "\n",
        "a1 = 1\n",
        "b1 = 2\n",
        "tolerance = 0.0001\n",
        "\n",
        "\n",
        "\n",
        "result_half_interval = half_interval_method(a, b, tolerance)\n",
        "if result_half_interval is not None:\n",
        "    print(f\"Розв'язок методом половинного ділення на відрізку [{a}, {b}]: {result_half_interval:.3f}\")\n",
        "\n",
        "result_half_interval = half_interval_method(a1, b1, tolerance)\n",
        "if result_half_interval is not None:\n",
        "    print(f\"Розв'язок методом половинного ділення на відрізку [{a1}, {b1}]: {result_half_interval:.3f}\")\n"
      ],
      "metadata": {
        "colab": {
          "base_uri": "https://localhost:8080/"
        },
        "id": "qf0kRe7KAjZj",
        "outputId": "01f93373-0e72-447e-808c-e23ebab326c7"
      },
      "execution_count": 4,
      "outputs": [
        {
          "output_type": "stream",
          "name": "stdout",
          "text": [
            "Розв'язок методом половинного ділення на відрізку [-1, 0]: -0.618\n",
            "Розв'язок методом половинного ділення на відрізку [1, 2]: 1.618\n"
          ]
        }
      ]
    },
    {
      "cell_type": "code",
      "source": [
        "#МЕТОД ХОРД\n",
        "def f(x):\n",
        "    return 3 * x**4 - 4 * x**3 + x**2 - 2 * x - 3\n",
        "\n",
        "def chord_method(a, b, epsilon):\n",
        "    while abs(b - a) > epsilon:\n",
        "        a = a - (b - a) * f(a) / (f(b) - f(a))\n",
        "        b = b - (b - a) * f(b) / (f(b) - f(a))\n",
        "    return (a + b) / 2\n",
        "\n",
        "# Відрізок a = -1, b = 0\n",
        "root1 = chord_method(-1, 0, 0.0001)\n",
        "print(f\"Корінь на відрізку [-1, 0]: {root1}\")\n",
        "\n",
        "# Відрізок a1 = 1, b1 = 2\n",
        "root2 = chord_method(1, 2, 0.0001)\n",
        "print(f\"Корінь на відрізку [1, 2]: {root2}\")\n"
      ],
      "metadata": {
        "colab": {
          "base_uri": "https://localhost:8080/"
        },
        "id": "S9MEHCR1CTZV",
        "outputId": "6e862dd2-8c6a-404c-a3fb-ac6a764c3aa5"
      },
      "execution_count": 8,
      "outputs": [
        {
          "output_type": "stream",
          "name": "stdout",
          "text": [
            "Корінь на відрізку [-1, 0]: -0.6180339886594799\n",
            "Корінь на відрізку [1, 2]: 1.6180332546437746\n"
          ]
        }
      ]
    }
  ]
}