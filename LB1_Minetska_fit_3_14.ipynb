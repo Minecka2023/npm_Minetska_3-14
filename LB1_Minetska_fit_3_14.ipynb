{
  "cells": [
    {
      "cell_type": "markdown",
      "metadata": {
        "id": "view-in-github",
        "colab_type": "text"
      },
      "source": [
        "<a href=\"https://colab.research.google.com/github/Minecka2023/npm_Minetska_3-14/blob/main/LB1_Minetska_fit_3_14.ipynb\" target=\"_parent\"><img src=\"https://colab.research.google.com/assets/colab-badge.svg\" alt=\"Open In Colab\"/></a>"
      ]
    },
    {
      "cell_type": "code",
      "execution_count": null,
      "metadata": {
        "id": "FogzOeoWvymg"
      },
      "outputs": [],
      "source": []
    },
    {
      "cell_type": "code",
      "execution_count": null,
      "metadata": {
        "colab": {
          "base_uri": "https://localhost:8080/"
        },
        "id": "qiEPymTJTJHz",
        "outputId": "63926541-fca8-47e5-db73-d7d02364edd3"
      },
      "outputs": [
        {
          "output_type": "stream",
          "name": "stdout",
          "text": [
            "Перша рівність точніше з відносною похибкою: 8.864029218701745e-05\n"
          ]
        }
      ],
      "source": [
        "import math\n",
        "\n",
        "\n",
        "\n",
        "x1 = 88  # Точне число sqrt(x1)\n",
        "\n",
        "x2 = 18 / 7  # Точне число x2\n",
        "\n",
        "x1_1 = 9.38  # Наближене число x1\n",
        "\n",
        "x2_2 = 2.57  # Наближене число x2\n",
        "\n",
        "\n",
        "\n",
        "def f(x1, x1_1, x2, x2_2):\n",
        "\n",
        "    rel_error_x1 = abs(math.sqrt(x1) - x1_1) / abs(math.sqrt(x1))\n",
        "\n",
        "    rel_error_x2 = abs(x2 - x2_2) / abs(x2)\n",
        "\n",
        "\n",
        "\n",
        "    if rel_error_x1 < rel_error_x2:\n",
        "\n",
        "        print(\"Перша рівність точніше з відносною похибкою:\", rel_error_x1)\n",
        "\n",
        "    elif rel_error_x2 < rel_error_x1:\n",
        "\n",
        "        print(\"Друга рівність точніше з відносною похибкою:\", rel_error_x2)\n",
        "\n",
        "    else:\n",
        "\n",
        "        print(\"Обидві рівності мають однакову точність з відносною похибкою:\", rel_error_x1)\n",
        "\n",
        "\n",
        "\n",
        "f(x1, x1_1, x2, x2_2)"
      ]
    },
    {
      "cell_type": "code",
      "execution_count": null,
      "metadata": {
        "id": "UACrLKFTTLHV",
        "colab": {
          "base_uri": "https://localhost:8080/"
        },
        "outputId": "c66dfa61-732d-40d2-9aa2-a55caa0c0537"
      },
      "outputs": [
        {
          "output_type": "stream",
          "name": "stdout",
          "text": [
            "√88=9.38 точніше в межах абсолютної граничної похибки та відносної похибки.\n"
          ]
        }
      ],
      "source": [
        "import math\n",
        "# Задаємо точні значення\n",
        "sqrt_88_exact = math.sqrt(88)\n",
        "division_exact = 18 / 7\n",
        "\n",
        "# Задаємо наближені значення\n",
        "sqrt_88_approx = 9.38\n",
        "division_approx = 2.57\n",
        "\n",
        "# Задаємо абсолютну граничну похибку\n",
        "absolute_tolerance = 0.0001\n",
        "\n",
        "# Розраховуємо відносні похибки для обох рівнянь\n",
        "sqrt_88_relative_error = abs(sqrt_88_exact - sqrt_88_approx) / abs(sqrt_88_exact)\n",
        "division_relative_error = abs(division_exact - division_approx) / abs(division_exact)\n",
        "\n",
        "# Визначаємо яке рівняння більш точне\n",
        "if (sqrt_88_relative_error < absolute_tolerance) and (division_relative_error < absolute_tolerance):\n",
        "    print(\"Обидва рівняння точні в межах абсолютної граничної похибки та відносної похибки\")\n",
        "elif sqrt_88_relative_error < absolute_tolerance:\n",
        "    print(\"√88=9.38 точніше в межах абсолютної граничної похибки та відносної похибки.\")\n",
        "elif division_relative_error < absolute_tolerance:\n",
        "    print(\"18/7=2.57 точніше в межах абсолютної граничної похибки та відносної похибки.\")\n",
        "else:\n",
        "    print(\"Обидва рівняння не точні в межах абсолютної граничної похибки та відносної похибки.\")"
      ]
    }
  ],
  "metadata": {
    "colab": {
      "provenance": [],
      "authorship_tag": "ABX9TyPXOb815nbS6GkiRCgr2KDq",
      "include_colab_link": true
    },
    "kernelspec": {
      "display_name": "Python 3",
      "name": "python3"
    },
    "language_info": {
      "name": "python"
    }
  },
  "nbformat": 4,
  "nbformat_minor": 0
}