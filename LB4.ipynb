{
  "nbformat": 4,
  "nbformat_minor": 0,
  "metadata": {
    "colab": {
      "provenance": [],
      "authorship_tag": "ABX9TyNwuiexC8F7FEciHb/mfN/z",
      "include_colab_link": true
    },
    "kernelspec": {
      "name": "python3",
      "display_name": "Python 3"
    },
    "language_info": {
      "name": "python"
    }
  },
  "cells": [
    {
      "cell_type": "markdown",
      "metadata": {
        "id": "view-in-github",
        "colab_type": "text"
      },
      "source": [
        "<a href=\"https://colab.research.google.com/github/Minecka2023/npm_Minetska_3-14/blob/main/LB4.ipynb\" target=\"_parent\"><img src=\"https://colab.research.google.com/assets/colab-badge.svg\" alt=\"Open In Colab\"/></a>"
      ]
    },
    {
      "cell_type": "code",
      "execution_count": 26,
      "metadata": {
        "colab": {
          "base_uri": "https://localhost:8080/"
        },
        "id": "P0tTW4-DHYuW",
        "outputId": "dad68ab2-8cce-4c30-94c2-19abee766607"
      },
      "outputs": [
        {
          "output_type": "stream",
          "name": "stdout",
          "text": [
            "[[0 0 0]\n",
            " [0 0 0]\n",
            " [0 0 0]]\n"
          ]
        }
      ],
      "source": [
        "# Перше завдання\n",
        "import numpy as np\n",
        "A = np.matrix([[1, 1, 1], [0, 1, 1], [0, 0, 1]])\n",
        "B = np.matrix([[7, 5, 3], [0, 7, 5], [0, 0, 7]])\n",
        "AB = A.dot(B)\n",
        "BA = B.dot(A)\n",
        "C = AB - BA\n",
        "print(C)\n"
      ]
    },
    {
      "cell_type": "code",
      "source": [
        "# Друге завдання\n",
        "import numpy as np\n",
        "A = np.matrix([[-1, 0, 2], [0, 1, 0], [1, 2, -1]])\n",
        "B = A.dot(A)\n",
        "print(B)"
      ],
      "metadata": {
        "colab": {
          "base_uri": "https://localhost:8080/"
        },
        "id": "vyRH3C_AJXHe",
        "outputId": "0c10d77d-160e-4dcc-eba2-a7d1da743f8a"
      },
      "execution_count": 28,
      "outputs": [
        {
          "output_type": "stream",
          "name": "stdout",
          "text": [
            "[[ 3  4 -4]\n",
            " [ 0  1  0]\n",
            " [-2  0  3]]\n"
          ]
        }
      ]
    },
    {
      "cell_type": "code",
      "source": [
        "# Третє завдання\n",
        "import numpy as np\n",
        "A = np.matrix([[3, 0, 7], [-4, 2, 3], [-1, 1, 2]])\n",
        "B = np.matrix([[1], [2], [4]])\n",
        "AB = A.dot(B)\n",
        "print(AB)"
      ],
      "metadata": {
        "colab": {
          "base_uri": "https://localhost:8080/"
        },
        "id": "lBZ8xanOKN3H",
        "outputId": "49f76065-9ba3-40db-9eef-d2ad7e9eff8e"
      },
      "execution_count": 12,
      "outputs": [
        {
          "output_type": "stream",
          "name": "stdout",
          "text": [
            "[[31]\n",
            " [12]\n",
            " [ 9]]\n"
          ]
        }
      ]
    },
    {
      "cell_type": "code",
      "source": [
        "# Четверте завдання\n",
        "import numpy as np\n",
        "\n",
        "matrix = np.array([[2, 4, 5],\n",
        "                  [1, 1, 2],\n",
        "                  [2, 4, 3]])\n",
        "\n",
        "# Обчислення визначника\n",
        "determinant = np.linalg.det(matrix)\n",
        "\n",
        "print(\"Визначник матриці:\")\n",
        "print(determinant)"
      ],
      "metadata": {
        "colab": {
          "base_uri": "https://localhost:8080/"
        },
        "id": "8cmRUyt8KwjA",
        "outputId": "727292fa-8447-4882-c965-8762dd555df5"
      },
      "execution_count": 29,
      "outputs": [
        {
          "output_type": "stream",
          "name": "stdout",
          "text": [
            "Визначник матриці:\n",
            "4.0\n"
          ]
        }
      ]
    },
    {
      "cell_type": "code",
      "source": [
        "# П'яте завдання\n",
        "import numpy as np\n",
        "\n",
        "matrix = np.array([[2, 3, 4, 1],\n",
        "                  [1, 2, 3, 4],\n",
        "                  [3, 4, 1, 2],\n",
        "                  [4, 1, 2, 3]])\n",
        "\n",
        "# Обчислення визначника\n",
        "determinant = np.linalg.det(matrix)\n",
        "\n",
        "print(\"Визначник матриці:\")\n",
        "print(determinant)"
      ],
      "metadata": {
        "colab": {
          "base_uri": "https://localhost:8080/"
        },
        "id": "4W7b_lxqLnuD",
        "outputId": "14d17ce1-5f28-4b1f-cd1d-0f88618f160b"
      },
      "execution_count": 30,
      "outputs": [
        {
          "output_type": "stream",
          "name": "stdout",
          "text": [
            "Визначник матриці:\n",
            "-160.00000000000009\n"
          ]
        }
      ]
    },
    {
      "cell_type": "code",
      "source": [
        "# Шосте завдання\n",
        "import numpy as np\n",
        "A = np.matrix([[1, 2, 2], [2, 1, -2], [2, -2, 1]])\n",
        "A_inv = np.linalg.inv(A)\n",
        "print(A_inv)"
      ],
      "metadata": {
        "colab": {
          "base_uri": "https://localhost:8080/"
        },
        "id": "RorJHkHGMCl3",
        "outputId": "456cfbb4-1b51-462a-df7e-a1866a8a39a2"
      },
      "execution_count": 31,
      "outputs": [
        {
          "output_type": "stream",
          "name": "stdout",
          "text": [
            "[[ 0.11111111  0.22222222  0.22222222]\n",
            " [ 0.22222222  0.11111111 -0.22222222]\n",
            " [ 0.22222222 -0.22222222  0.11111111]]\n"
          ]
        }
      ]
    },
    {
      "cell_type": "code",
      "source": [
        "# Сьоме завдання\n",
        "import numpy as np\n",
        "A = np.matrix([[1, -1, 3, 4], [0, -1, 2, 1], [1, 1, -1, 2], [2, 3, -5, 3]])\n",
        "rank = np.linalg.matrix_rank(A)\n",
        "print(rank)"
      ],
      "metadata": {
        "colab": {
          "base_uri": "https://localhost:8080/"
        },
        "id": "ZyqegKemMo8_",
        "outputId": "1d431460-d3e2-4724-c9e2-a4c2c1020ea1"
      },
      "execution_count": 32,
      "outputs": [
        {
          "output_type": "stream",
          "name": "stdout",
          "text": [
            "3\n"
          ]
        }
      ]
    },
    {
      "cell_type": "code",
      "source": [
        "# Метод Крамера\n",
        "import numpy as np\n",
        "import numpy as np\n",
        "\n",
        "# Коефіцієнти перед змінними у системі рівнянь\n",
        "A = np.array([[4, 1, 4],\n",
        "              [1, 1, 2],\n",
        "              [2, 1, 2]])\n",
        "\n",
        "# Вектор вільних членів\n",
        "B = np.array([-2, -1, 0])\n",
        "\n",
        "# Обчислення визначника головної матриці\n",
        "det_A = np.linalg.det(A)\n",
        "\n",
        "# Ініціалізація списку для збереження розв'язків\n",
        "solutions = []\n",
        "\n",
        "# Розв'язання системи рівнянь методом Крамера\n",
        "for i in range(A.shape[1]):\n",
        "    Ai = A.copy()\n",
        "    Ai[:, i] = B\n",
        "    det_Ai = np.linalg.det(Ai)\n",
        "    xi = det_Ai / det_A\n",
        "    solutions.append(xi)\n",
        "\n",
        "# Виведення результату\n",
        "print(\"Розв'язки системи рівнянь:\")\n",
        "for i, sol in enumerate(solutions):\n",
        "    print(f\"x{i+1} = {sol:.4f}\")\n",
        "print('Checking the correctness of the solution\\n', np.linalg.solve(a,b).round(3))"
      ],
      "metadata": {
        "colab": {
          "base_uri": "https://localhost:8080/"
        },
        "id": "d8TBerbxNThb",
        "outputId": "ee1bce6d-dfb0-42b5-b61e-73b9c9812cdc"
      },
      "execution_count": 33,
      "outputs": [
        {
          "output_type": "stream",
          "name": "stdout",
          "text": [
            "Розв'язки системи рівнянь:\n",
            "x1 = 1.0000\n",
            "x2 = 2.0000\n",
            "x3 = -2.0000\n",
            "Checking the correctness of the solution\n",
            " [[506.667]\n",
            " [566.667]\n",
            " [426.667]]\n"
          ]
        }
      ]
    },
    {
      "cell_type": "code",
      "source": [
        "# Матричний метод\n",
        "import numpy as np\n",
        "\n",
        "# Матриця коефіцієнтів A\n",
        "A = np.array([[4, 1, 4],\n",
        "              [1, 1, 2],\n",
        "              [2, 1, 2]])\n",
        "\n",
        "# Вектор вільних членів B\n",
        "B = np.array([-2, -1, 0])\n",
        "\n",
        "A = np.matrix('3 -1 2; 1 4 -1; 2 3 1')\n",
        "B = np.matrix('-4; 10; 8')\n",
        "print('A=', A)\n",
        "print('B=',B)\n",
        "A_inv = np.linalg.inv(A)\n",
        "print(A_inv)\n",
        "X = A_inv.dot(B)\n",
        "print('X=',X)"
      ],
      "metadata": {
        "colab": {
          "base_uri": "https://localhost:8080/"
        },
        "id": "HQzONAWUSJUH",
        "outputId": "b84dcf15-b185-433d-d5c5-80655bd1dde6"
      },
      "execution_count": 34,
      "outputs": [
        {
          "output_type": "stream",
          "name": "stdout",
          "text": [
            "A= [[ 3 -1  2]\n",
            " [ 1  4 -1]\n",
            " [ 2  3  1]]\n",
            "B= [[-4]\n",
            " [10]\n",
            " [ 8]]\n",
            "[[ 0.5         0.5        -0.5       ]\n",
            " [-0.21428571 -0.07142857  0.35714286]\n",
            " [-0.35714286 -0.78571429  0.92857143]]\n",
            "X= [[-1.]\n",
            " [ 3.]\n",
            " [ 1.]]\n"
          ]
        }
      ]
    },
    {
      "cell_type": "code",
      "source": [
        "# Частина 2 завдання 4\n",
        "\n",
        "import numpy as np\n",
        "\n",
        "# Задаєм розмірність матриці N (кількість рядків) і M (кількість стовпців)\n",
        "N = 4\n",
        "M = 3\n",
        "\n",
        "# Створюємо прямокутну матрицю A з випадковими елементами\n",
        "A = np.random.rand(N, M)\n",
        "\n",
        "# Знаходимо суму всіх елементів матриці\n",
        "total_sum = np.sum(A)\n",
        "\n",
        "# Знаходимо суми елементів для кожного стовпця\n",
        "column_sums = np.sum(A, axis=0)\n",
        "\n",
        "# Знаходимо долю кожного стовпця відносно загальної суми\n",
        "column_proportions = column_sums / total_sum\n",
        "\n",
        "print(\"Матриця A:\")\n",
        "print(A)\n",
        "print(\"Загальна сума елементів матриці: {:.4f}\".format(total_sum))\n",
        "print(\"Суми елементів кожного стовпця:\", column_sums)\n",
        "print(\"Долі кожного стовпця відносно загальної суми:\", column_proportions)"
      ],
      "metadata": {
        "colab": {
          "base_uri": "https://localhost:8080/"
        },
        "id": "2rcLGHVDTI7K",
        "outputId": "71a12171-e216-4469-c33b-ece1637de7be"
      },
      "execution_count": 35,
      "outputs": [
        {
          "output_type": "stream",
          "name": "stdout",
          "text": [
            "Матриця A:\n",
            "[[0.94954618 0.44561641 0.38522371]\n",
            " [0.85944583 0.30404939 0.93693181]\n",
            " [0.18060316 0.68571204 0.50131707]\n",
            " [0.63959986 0.01272302 0.94178426]]\n",
            "Загальна сума елементів матриці: 6.8426\n",
            "Суми елементів кожного стовпця: [2.62919503 1.44810086 2.76525684]\n",
            "Долі кожного стовпця відносно загальної суми: [0.38424184 0.21163167 0.40412649]\n"
          ]
        }
      ]
    }
  ]
}