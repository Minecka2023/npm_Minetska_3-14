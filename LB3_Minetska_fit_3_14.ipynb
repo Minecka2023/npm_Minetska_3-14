{
  "nbformat": 4,
  "nbformat_minor": 0,
  "metadata": {
    "colab": {
      "provenance": [],
      "authorship_tag": "ABX9TyPVYx0qoGiaXZGCIBC6XkNF",
      "include_colab_link": true
    },
    "kernelspec": {
      "name": "python3",
      "display_name": "Python 3"
    },
    "language_info": {
      "name": "python"
    }
  },
  "cells": [
    {
      "cell_type": "markdown",
      "metadata": {
        "id": "view-in-github",
        "colab_type": "text"
      },
      "source": [
        "<a href=\"https://colab.research.google.com/github/Minecka2023/npm_Minetska_3-14/blob/main/LB3_Minetska_fit_3_14.ipynb\" target=\"_parent\"><img src=\"https://colab.research.google.com/assets/colab-badge.svg\" alt=\"Open In Colab\"/></a>"
      ]
    },
    {
      "cell_type": "code",
      "source": [
        "#Метод Ньютона\n",
        "import numpy as np\n",
        "import math\n",
        "from scipy.misc import derivative\n",
        "\n",
        "def f(x):\n",
        "    return 3*pow(x,4) -4*pow(x,3) + pow(x,2) - 2*x - 3\n",
        "a = -2.\n",
        "b = -1/2\n",
        "\n",
        "eps = 0.001 #точність\n",
        "\n",
        "def nuton(a,b,eps):\n",
        "    df2 = derivative(f, b, n = 2)\n",
        "    if (f(b)*df2>0):\n",
        "        xi = b\n",
        "    else:\n",
        "        xi = a\n",
        "    df = derivative(f,xi, n= 1)\n",
        "    xi_1 = xi - f(xi)/df\n",
        "    while (abs(xi_1 - xi)>eps): #accuracy check\n",
        "        xi = xi_1\n",
        "        xi_1 = xi - f(xi)/df\n",
        "    return print ('Solving the equation by Newton*s method x = ', xi_1)\n",
        "nuton (a,b,eps)"
      ],
      "metadata": {
        "colab": {
          "base_uri": "https://localhost:8080/"
        },
        "id": "Ex_aODfYuYkg",
        "outputId": "2f2d6247-0ad7-4734-bf39-75aa9cc4bc97"
      },
      "execution_count": 14,
      "outputs": [
        {
          "output_type": "stream",
          "name": "stdout",
          "text": [
            "Solving the equation by Newton*s method x =  -0.633028509603418\n"
          ]
        },
        {
          "output_type": "stream",
          "name": "stderr",
          "text": [
            "<ipython-input-14-99ed6e6455d8>:14: DeprecationWarning: scipy.misc.derivative is deprecated in SciPy v1.10.0; and will be completely removed in SciPy v1.12.0. You may consider using findiff: https://github.com/maroba/findiff or numdifftools: https://github.com/pbrod/numdifftools\n",
            "  df2 = derivative(f, b, n = 2)\n",
            "<ipython-input-14-99ed6e6455d8>:19: DeprecationWarning: scipy.misc.derivative is deprecated in SciPy v1.10.0; and will be completely removed in SciPy v1.12.0. You may consider using findiff: https://github.com/maroba/findiff or numdifftools: https://github.com/pbrod/numdifftools\n",
            "  df = derivative(f,xi, n= 1)\n"
          ]
        }
      ]
    },
    {
      "cell_type": "code",
      "source": [
        "import numpy as np\n",
        "import math\n",
        "from scipy.misc import derivative\n",
        "def f(x):\n",
        "    return 3*pow(x,4) -4*pow(x,3) + pow(x,2) - 2*x - 3\n",
        "\n",
        "def komb(a,b,eps):\n",
        "    if (derivative(f, a, n = 1)*derivative(f, a, n = 2)>0):\n",
        "        a0 = a\n",
        "        b0 = b\n",
        "\n",
        "    else:\n",
        "        a0 = b\n",
        "        b0 = a\n",
        "    ai = a0\n",
        "    bi = b0\n",
        "    while abs(ai-bi)>eps:\n",
        "        ai_1 = ai -f(ai)*(bi - ai)/(f(bi) - f(ai))\n",
        "        bi_1 = bi - f(bi)/derivative(f,bi, n= 1)\n",
        "        ai = ai_1\n",
        "        bi = bi_1\n",
        "    x = (ai_1+bi_1)/2\n",
        "\n",
        "    return print('Solving the equation by the combined method x = ', x)\n",
        "komb(-2,-1/2,0.0001)\n"
      ],
      "metadata": {
        "colab": {
          "base_uri": "https://localhost:8080/"
        },
        "id": "kBim0QxRyDFo",
        "outputId": "4625236a-dd52-4bd7-97a6-6b90777ff5e2"
      },
      "execution_count": 15,
      "outputs": [
        {
          "output_type": "stream",
          "name": "stdout",
          "text": [
            "Solving the equation by the combined method x =  -0.618077580937133\n"
          ]
        },
        {
          "output_type": "stream",
          "name": "stderr",
          "text": [
            "<ipython-input-15-34c7e48e26ae>:8: DeprecationWarning: scipy.misc.derivative is deprecated in SciPy v1.10.0; and will be completely removed in SciPy v1.12.0. You may consider using findiff: https://github.com/maroba/findiff or numdifftools: https://github.com/pbrod/numdifftools\n",
            "  if (derivative(f, a, n = 1)*derivative(f, a, n = 2)>0):\n",
            "<ipython-input-15-34c7e48e26ae>:19: DeprecationWarning: scipy.misc.derivative is deprecated in SciPy v1.10.0; and will be completely removed in SciPy v1.12.0. You may consider using findiff: https://github.com/maroba/findiff or numdifftools: https://github.com/pbrod/numdifftools\n",
            "  bi_1 = bi - f(bi)/derivative(f,bi, n= 1)\n"
          ]
        }
      ]
    }
  ]
}